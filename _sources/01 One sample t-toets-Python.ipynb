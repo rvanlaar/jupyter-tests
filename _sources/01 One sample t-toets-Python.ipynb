{
 "cells": [
  {
   "cell_type": "markdown",
   "id": "c953ffb4",
   "metadata": {},
   "source": [
    "<!-- ## /OPENBLOK: Data-aanmaken.py -->\n",
    "# Toepassing\n",
    "Gebruik de *one sample t-toets* om het gemiddelde van de steekproef te vergelijken met een bekend gemiddelde of norm van de totale populatie.[^1] gemiddelde\n",
    "\n",
    "# Tekst\n",
    "\n",
    "# Onderwijscasus\n",
    "<div id = \"casus\">\n",
    "De opleidingsdirecteur van de opleiding Werktuigbouwkunde wil weten of het gemiddelde eindexamencijfer voor de exacte vakken (Wiskunde, Natuurkunde en Scheikunde; WNS) van vwo studenten anders is dan het landelijk gemiddelde (6,8).[^2] Met deze gegevens probeert zij een inschatting te maken van het niveau van de studenten en kan zij bepalen of het curriculum van de inleidende vakken genoeg aansluit bij eerstejaars studenten met een vwo vooropleiding.\n",
    "\n",
    "Dit onderzoek vertaalt zich in de volgende combinatie van hypothesen, waarbij de nulhypothese zo geformuleerd is dat er geen effect of verschil is en de alternatieve hypothese zo geformuleerd is dat er wel een effect of verschil is.\n",
    "\n",
    "*H~0~*: Het gemiddelde eindexamencijfer voor de exacte vakken van vwo studenten die beginnen aan de Bachelor Werktuigbouwkunde is gelijk aan het landelijk gemiddelde: µ = 6,8. \n",
    "\n",
    "*H~A~*: Het gemiddelde eindexamencijfer voor de exacte vakken van vwo studenten die beginnen aan de Bachelor Werktuigbouwkunde is anders dan het landelijk gemiddelde: µ ≠ 6,8. \n",
    "</div>\n",
    "\n",
    "# Assumpties\n",
    "Om een valide resultaat te bereiken moeten, voordat de toets kan worden uitgevoerd, de data aan een aantal voorwaarden voldoet. \n",
    "\n",
    "## Normaliteit \n",
    "De *one sample t-toets* gaat ervan uit dat de data van de steekproef normaal verdeeld is. Ga er bij meer dan 100 observaties vanuit dat de *one sample t-toets* robuust genoeg is om uit te voeren zonder dat de steekproef een normale verdeling volgt.[^3] \n",
    "\n",
    "Controleer de assumptie van normaliteit met de volgende stappen:  \n",
    "1. Controleer de data visueel met een histogram, een boxplot of een Q-Q plot.   \n",
    "2. Toets of de steekproef normaal verdeeld is met de *Kolmogorov-Smirnov test* of bij een kleinere steekproef (n < 50) met de *Shapiro-Wilk test*.[^4]<sup>, </sup>[^5]  \n",
    "\n",
    "De eerste stap heeft als doel een goede indruk te krijgen van de verdeling van de steekproef. In de tweede stap wordt de assumptie van normaliteit getoetst. De statistische toets laat zien of de verdeling van de steekproef voldoet aan de assumptie van normaliteit.\n",
    "\n",
    "Als blijkt dat de steekproef niet normaal verdeeld is en de steekproefgrootte te laag is voor een robuuste toets, transformeer dan de observaties en bepaal daarna of deze wel normaal verdeeld zijn.[^6] Een andere optie in dit geval is het gebruiken van de [Wilcoxon signed rank toets](07-Wilcoxon-signed-rank-toets-R.html).[^7]<sup>, </sup>[^8]\n",
    "\n",
    "# Uitvoering\n",
    "<!-- ## TEKSTBLOK: Dataset-inladen.py -->\n",
    "Er is een dataset ingeladen met de gemiddelde eindexamencijfers van WNS van eerstejaars Werktuigbouwkunde: `dfGemiddeld_cijfer_WNS`.\n",
    "<!-- ## /TEKSTBLOK: Dataset-inladen.py -->\n",
    "\n",
    "## De data bekijken\n",
    "<!-- ## TEKSTBLOK: Data-bekijken.py -->\n",
    "Gebruik `<dataframe>.head()` en `<dataframe>.tail()` uit de library `pandas` om de structuur van de data te bekijken.\n",
    "<!-- ## /TEKSTBLOK: Data-bekijken.py -->\n",
    "<!-- ## OPENBLOK: Data-bekijken.py -->"
   ]
  },
  {
   "cell_type": "code",
   "execution_count": 1,
   "id": "79ae0119",
   "metadata": {},
   "outputs": [],
   "source": [
    "# Pandas library importeren\n",
    "import pandas as pd"
   ]
  },
  {
   "cell_type": "code",
   "execution_count": 2,
   "id": "44f90e65",
   "metadata": {
    "tags": [
     "remove_cell"
    ]
   },
   "outputs": [],
   "source": [
    "dfGemiddeld_cijfer_WNS = pd.read_csv(\"data/01_Gemiddeld_cijfer_WNS.csv\")['x']\n",
    "Gemiddeld_cijfer_WNS = dfGemiddeld_cijfer_WNS.to_numpy()"
   ]
  },
  {
   "cell_type": "code",
   "execution_count": 3,
   "id": "9f00b281",
   "metadata": {
    "include": true
   },
   "outputs": [
    {
     "name": "stdout",
     "output_type": "stream",
     "text": [
      "0    7.400000\n",
      "1    7.366667\n",
      "2    7.366667\n",
      "3    7.666667\n",
      "4    5.933333\n",
      "Name: x, dtype: float64\n"
     ]
    }
   ],
   "source": [
    "# Eerste 5 observaties\n",
    "print(dfGemiddeld_cijfer_WNS.head(5))"
   ]
  },
  {
   "cell_type": "code",
   "execution_count": 4,
   "id": "b4fbb3a4",
   "metadata": {
    "include": true
   },
   "outputs": [
    {
     "name": "stdout",
     "output_type": "stream",
     "text": [
      "119    6.133333\n",
      "120    8.066667\n",
      "121    5.166667\n",
      "122    7.700000\n",
      "123    6.366667\n",
      "Name: x, dtype: float64\n"
     ]
    }
   ],
   "source": [
    "# Laatste 5 observaties\n",
    "print(dfGemiddeld_cijfer_WNS.tail())"
   ]
  },
  {
   "cell_type": "markdown",
   "id": "fc146e95",
   "metadata": {},
   "source": [
    "<!-- ## /OPENBLOK: Data-bekijken.py -->\n",
    "<!-- ## TEKSTBLOK: Data-beschrijven.py-->\n",
    "Gebruik de variabele `Gemiddeld_cijfer_WNS`. Inspecteer de dataset door de groepsgrootte, het gemiddelde en de standaardafwijking te bekijken met de functies `np.size()`, `np.mean()` en `np.sqrt(np.var(<variabele>, ddof = 1))`uit de library `numpy`.\n",
    "<!-- ## /TEKSTBLOK: Data-beschrijven.py-->\n",
    "<!-- ## OPENBLOK: Data-beschrijven.py -->"
   ]
  },
  {
   "cell_type": "code",
   "execution_count": 5,
   "id": "9fca7ecb",
   "metadata": {},
   "outputs": [],
   "source": [
    "# Numpy Library importeren\n",
    "import numpy as np"
   ]
  },
  {
   "cell_type": "code",
   "execution_count": 6,
   "id": "2c5e136b",
   "metadata": {
    "collapse": true,
    "name": "de data bekijken"
   },
   "outputs": [
    {
     "name": "stdout",
     "output_type": "stream",
     "text": [
      "124\n",
      "7.128763440860216\n",
      "0.7818658718289299\n"
     ]
    }
   ],
   "source": [
    "## Gemiddelde en standaarddeviatie\n",
    "print(np.size(Gemiddeld_cijfer_WNS))\n",
    "print(np.mean(Gemiddeld_cijfer_WNS))\n",
    "print(np.std(Gemiddeld_cijfer_WNS))"
   ]
  },
  {
   "cell_type": "markdown",
   "id": "ca0fa431",
   "metadata": {},
   "source": [
    "<!-- ## /OPENBLOK: Data-beschrijven.py -->\n",
    "<!-- ## CLOSEDBLOK: Data-beschrijven.py -->"
   ]
  },
  {
   "cell_type": "code",
   "execution_count": 7,
   "id": "8e3066aa",
   "metadata": {
    "tags": [
     "remove_cell"
    ]
   },
   "outputs": [],
   "source": [
    "mean = np.mean(Gemiddeld_cijfer_WNS)\n",
    "sd = np.std(Gemiddeld_cijfer_WNS)\n",
    "N = np.size(Gemiddeld_cijfer_WNS)"
   ]
  },
  {
   "cell_type": "markdown",
   "id": "b2374e33",
   "metadata": {},
   "source": [
    "<!-- ## /CLOSEDBLOK: Data-beschrijven.py -->\n",
    "<!-- ## TEKSTBLOK: Data-beschrijven2.py -->\n",
    "* Gemiddeld cijfer WNS (standaardafwijking): `r Round_and_format(py$mean)` (`r Round_and_format(py$sd)`). *n* = `r py$N`.\n",
    "<!-- ## /TEKSTBLOK: Data-beschrijven2.py -->\n",
    "\n",
    "## Visuele inspectie van normaliteit\n",
    "Geef de verdeling van de steekproef visueel weer met een histogram, Q-Q plot en boxplot.\n",
    "\n",
    "### Histogram\n",
    "\n",
    "Focus bij het analyseren van een histogram[^18] op de symmetrie van de verdeling, de hoeveelheid toppen (modaliteit) en mogelijke uitbijters. Een normale verdeling is symmetrisch, heeft één top en geen uitbijters.[^9]<sup>, </sup>[^10]\n",
    "\n",
    "<!-- ## OPENBLOK: Histogram.py -->"
   ]
  },
  {
   "cell_type": "code",
   "execution_count": 8,
   "id": "3be70231",
   "metadata": {
    "include": true,
    "name": "histogram"
   },
   "outputs": [
    {
     "data": {
      "image/png": "[encoded data removed]",
      "text/plain": [
       "<Figure size 432x288 with 1 Axes>"
      ]
     },
     "metadata": {
      "needs_background": "light"
     },
     "output_type": "display_data"
    }
   ],
   "source": [
    "## Histogram met matplotlib\n",
    "import matplotlib.pyplot as plt\n",
    "hist = plt.hist(Gemiddeld_cijfer_WNS, density = True, edgecolor = \"black\", bins = 9)\n",
    "title = plt.title(\"Gemiddelde Eindcijfers Wiskunde, Natuurkunde en Scheikunde\")\n",
    "xlab = plt.xlabel(\"Gemiddeld_Cijfer_WNS\")\n",
    "ylab = plt.ylabel(\"Frequentiedichtheid\")\n",
    "plt.show()"
   ]
  },
  {
   "cell_type": "markdown",
   "id": "11a13cd5",
   "metadata": {},
   "source": [
    "<!-- ## /OPENBLOK: Histogram.py -->\n",
    "\n",
    "De histogram lijkt symmetrisch, heeft één top en geen outliers. De steekproef is dus bij benadering normaal verdeeld.\n",
    "\n",
    "### Q-Q plot\n",
    "<!-- ## TEKSTBLOK: QQplot.py-->\n",
    "Importeer `scipy.stats` om een Q-Q plot te maken en statistische testen uit te voeren. Voor een Q-Q plot kan de functie `scipy.stats.probplot()` worden gebruikt.\n",
    "<!-- ## /TEKSTBLOK: QQplot.py-->\n",
    "\n",
    "Als over het algemeen de meeste datapunten op de lijn liggen, kan aangenomen worden dat de data normaal verdeeld is.\n",
    "<!-- ## OPENBLOK: QQplot.py -->"
   ]
  },
  {
   "cell_type": "code",
   "execution_count": 9,
   "id": "fb77b712",
   "metadata": {},
   "outputs": [],
   "source": [
    "import scipy.stats as stats"
   ]
  },
  {
   "cell_type": "code",
   "execution_count": 10,
   "id": "6ea1b74b",
   "metadata": {
    "name": "qqplot"
   },
   "outputs": [
    {
     "data": {
      "image/png": "[encoded data removed]",
      "text/plain": [
       "<Figure size 432x288 with 1 Axes>"
      ]
     },
     "metadata": {
      "needs_background": "light"
     },
     "output_type": "display_data"
    }
   ],
   "source": [
    "qq = stats.probplot(Gemiddeld_cijfer_WNS, dist=\"norm\", plot=plt)\n",
    "title = plt.title(\"Normaal Q-Q plot van gemiddelde cijfers WNS\")\n",
    "xlab = plt.xlabel(\"Theoretische kwantielen\")\n",
    "ylab = plt.ylabel(\"Kwantielen in data\")\n",
    "plt.show()"
   ]
  },
  {
   "cell_type": "markdown",
   "id": "7b43552b-1fa9-4276-b516-5c270c02da07",
   "metadata": {
    "tags": []
   },
   "source": [
    "<!-- ## /OPENBLOK: QQplot.py -->\n",
    "\n",
    "In deze casus liggen de meeste punten op de lijn. Bij de uiteinden liggen de punten dichtbij de lijn. Deze Q-Q plot duidt dus op een goede benadering van de normaalverdeling.\n",
    "\n",
    "### Boxplot\n",
    "De box geeft de middelste 50% van de tentamencijfers weer. De zwarte lijn binnen de box is de mediaan. In de staarten of snorreharen zitten de eerste 25% en de laatste 25%. Cirkels visualiseren mogelijke uitbijters.[^9] Hoe meer de boxen overlappen, hoe waarschijnlijker er geen significant verschil is tussen de groepen. \n",
    "\n",
    "<!-- ## OPENBLOK: Boxplot.py -->\n",
    "``` {python boxplot}\n",
    "## Boxplot\n",
    "box = plt.boxplot(Gemiddeld_cijfer_WNS, labels = [\"\"])\n",
    "x = plt.xlabel(\"Werktuigbouwkunde\")\n",
    "y = plt.ylabel(\"Gemiddeld_cijfer_WNS\")\n",
    "plt.show()\n",
    "```\n",
    "<!-- ## /OPENBLOK: Boxplot.py -->\n",
    "\n",
    "De boxplot geeft de spreiding van het gemiddelde eindexamencijfer voor de exacte vakken weer van de studenten Werktuigbouwkunde. De box en staarten zien er symmetrisch uit, wat een indicatie is van een normale verdeling.[^10]  \n",
    "\n",
    "## Toetsen van normaliteit\n",
    "Om te controleren of de steekproef aan de assumptie van normaliteit voldoet, kan de normaliteit getoetst worden. Twee veelgebruikte toetsen zijn: de *Kolmogorov-Smirnov test* en de *Shapiro-Wilk test*.\n",
    "\n",
    "### Kolmogorov-Smirnov\n",
    "De *Kolmogorov-Smirnov test* toetst het verschil tussen twee verdelingen. Standaard toetst deze test het verschil tussen een normale verdeling en de verdeling van de steekproef. De Lilliefors correctie is vereist als het gemiddelde en de standaardafwijking niet van tevoren bekend of bepaald zijn, wat meestal het geval is bij een steekproef. Als de p-waarde kleiner dan 0,05 is, is de verdeling van de steekproef significant verschillend van een normale verdeling.\n",
    "\n",
    "<!-- ## TEKSTBLOK: Lilliefors-test1.py -->\n",
    "De standaard interpretatie van een statistische toets in Python is als volgt: `(<teststatistiek>, <p-waarde>)`. Gebruik bij deze toets het argument `pvalmethod = \"table\"` om een betrouwbare p-waarde te krijgen.\n",
    "<!-- ## /TEKSTBLOK: Lilliefors-test1.py -->\n",
    "\n",
    "<!-- ## OPENBLOK: Lilliefors-test.py -->"
   ]
  },
  {
   "cell_type": "code",
   "execution_count": 11,
   "id": "f1a03fff",
   "metadata": {
    "name": "Kolmogorov-Smirnov Test",
    "warning": false
   },
   "outputs": [
    {
     "name": "stdout",
     "output_type": "stream",
     "text": [
      "(0.04110412174561617, 0.9101034629612762)\n"
     ]
    }
   ],
   "source": [
    "## Kolmogorov-Smirnov test\n",
    "import statsmodels.stats.api\n",
    "print(statsmodels.stats.api.lilliefors(Gemiddeld_cijfer_WNS, pvalmethod = \"table\"))"
   ]
  },
  {
   "cell_type": "code",
   "execution_count": 12,
   "id": "530883ea",
   "metadata": {
    "name": "Kolmogorov-Smirnov Test2",
    "tags": [
     "remove_cell"
    ],
    "warning": false
   },
   "outputs": [],
   "source": [
    "## Kolmogorov-Smirnov test\n",
    "import statsmodels.stats.api\n",
    "lillieforstest = statsmodels.stats.api.lilliefors(Gemiddeld_cijfer_WNS, pvalmethod = \"table\")"
   ]
  },
  {
   "cell_type": "markdown",
   "id": "2b70f0b1",
   "metadata": {},
   "source": [
    "<!-- ## /OPENBLOK: Lilliefors-test.py -->\n",
    "\n",
    "<!-- ## TEKSTBLOK: Lilliefors-test2.py -->\n",
    "De p-waarde is `r Round_and_format(unlist(py$lillieforstest[2]))`, dus er is geen significant verschil gevonden tussen de verdeling van de steekproef en de normale verdeling. De *one sample-t-toets* kan uitgevoerd worden.\n",
    "<!-- ## /TEKSTBLOK: Lilliefors-test2.py -->\n",
    "\n",
    "### Shapiro-Wilk Test\n",
    "De *Shapiro-Wilk test* is een soortgelijke test als de *Kolmogorov-Smirnov test* en vooral geschikt bij kleine steekproeven (n < 50). Als de p-waarde kleiner dan 0,05 is, is de verdeling van de steekproef significant verschillend van de normale verdeling.\n",
    "<!-- ## TEKSTBLOK: Shapiro-Wilk-test.py -->"
   ]
  },
  {
   "cell_type": "code",
   "execution_count": 13,
   "id": "9bc15cfe",
   "metadata": {
    "tags": [
     "remove_cell"
    ]
   },
   "outputs": [],
   "source": [
    "dfGemiddeld_cijfer_WNS_n30 = pd.read_csv(\"data/01_Gemiddeld_cijfer_WNS_n30.csv\")['x']\n",
    "Gemiddeld_cijfer_WNS_n30 = dfGemiddeld_cijfer_WNS_n30.to_numpy()\n",
    "N30 = len(Gemiddeld_cijfer_WNS_n30)"
   ]
  },
  {
   "cell_type": "markdown",
   "id": "a6b4683a",
   "metadata": {},
   "source": [
    "Er is een subset van `Gemiddeld_cijfer_WNS` ingeladen: `Gemiddeld_cijfer_WNS_n30`. De steekproef bevat `r py$N30` studenten.\n",
    "<!-- ## TEKSTBLOK: Shapiro-Wilk-test.py -->\n",
    "<!-- ## OPENBLOK: Shapiro-Wilk-test.py -->\n",
    "``` {python Shapiro-Wilk Test, warning=FALSE}\n",
    "#Shapiro-Wilk test\n",
    "print(stats.shapiro(Gemiddeld_cijfer_WNS_n30))\n",
    "```\n",
    "``` {python Shapiro-Wilk Test2, warning=FALSE, include = FALSE}\n",
    "#Shapiro-Wilk test\n",
    "swtest = stats.shapiro(Gemiddeld_cijfer_WNS_n30)\n",
    "```\n",
    "<!-- ## /OPENBLOK: Shapiro-Wilk-test.py -->\n",
    "\n",
    "<!-- ## TEKSTBLOK: Shapiro-Wilk-test2.py -->\n",
    "De p-waarde is `r Round_and_format(unlist(py$swtest[2]))`, dus er is geen significant verschil gevonden tussen de verdeling van de steekproef en de normale verdeling. De *one sample-t-toets* kan uitgevoerd worden.\n",
    "<!-- ## /TEKSTBLOK: Shapiro-Wilk-test2.py -->\n",
    "\n",
    "##  One sample t-toets\n",
    "<!-- ## TEKSTBLOK: T-test.py -->\n",
    "Gebruik `scipy.stats.ttest_1samp()` om een t-toets uit te voeren. Gebruik het argument `popmean = 6.8` om het gemiddelde te specificeren waarmee wordt vergeleken. De standaard in Python is dat er tweezijdig wordt getoetst. De verwachting is dat de studenten hoger scoren, maar omdat het relevant is om te weten of de studenten ook lager scoren dan het landelijk gemiddelde, is er voor gekozen om tweezijdig te toetsen. Een eenzijdige toets kan uitgevoerd worden door de p-waarde te verdubbelen en daarna te vergelijken met het significantieniveau. Gebruik de hele dataset `dfGemiddeld_cijfer_WNS` met *n* = `r py$N`. \n",
    "<!-- ## /TEKSTBLOK: T-test.py -->\n",
    "<!-- ## OPENBLOK: T-test.py -->"
   ]
  },
  {
   "cell_type": "code",
   "execution_count": 14,
   "id": "21054bee",
   "metadata": {
    "name": "ttest"
   },
   "outputs": [
    {
     "name": "stdout",
     "output_type": "stream",
     "text": [
      "Ttest_1sampResult(statistic=4.663412324551201, pvalue=7.970241179899989e-06)\n"
     ]
    }
   ],
   "source": [
    "## T-test\n",
    "print(stats.ttest_1samp(Gemiddeld_cijfer_WNS, popmean = 6.8))"
   ]
  },
  {
   "cell_type": "markdown",
   "id": "d66f5729",
   "metadata": {},
   "source": [
    "<!-- ## /OPENBLOK: T-test.py -->\n",
    "<!-- ## CLOSEDBLOK: T-test.py -->"
   ]
  },
  {
   "cell_type": "code",
   "execution_count": 15,
   "id": "ca806674",
   "metadata": {
    "name": "ttest als object",
    "tags": [
     "remove_input"
    ]
   },
   "outputs": [],
   "source": [
    "stat, pval = stats.ttest_1samp(Gemiddeld_cijfer_WNS, popmean = 6.8)\n",
    "par = N - 1"
   ]
  },
  {
   "cell_type": "markdown",
   "id": "4ccf7e3a",
   "metadata": {},
   "source": [
    "<!-- ## /CLOSEDBLOK: T-test.py -->\n",
    "\n",
    "<!-- ## TEKSTBLOK: betrouwbaarheidsintervaltekst.py -->\n",
    "Bereken het 95%-betrouwbaarheidsinterval van het gemiddelde handmatig.\n",
    "<!-- ## /TEKSTBLOK: betrouwbaarheidsintervaltekst.py -->\n",
    "\n",
    "<!-- ## OPENBLOK: betrouwbaarheidsinterval.py -->"
   ]
  },
  {
   "cell_type": "code",
   "execution_count": 16,
   "id": "c9e2611d",
   "metadata": {
    "name": "betrouwbaarheidsinterval"
   },
   "outputs": [
    {
     "name": "stdout",
     "output_type": "stream",
     "text": [
      "6.989216039132854 7.268310842587578\n"
     ]
    }
   ],
   "source": [
    "# Bereken het gemiddelde\n",
    "Gemiddelde = np.mean(Gemiddeld_cijfer_WNS)\n",
    "# Sla het aantal observaties op\n",
    "N = np.size(Gemiddeld_cijfer_WNS)\n",
    "\n",
    "# Bereken de standaardafwijking van de dataset\n",
    "Standaardafwijking = np.sqrt(np.var(Gemiddeld_cijfer_WNS, ddof = 1))\n",
    "\n",
    "# Bereken de t-waarde behorend bij het aantal vrijheidsgraden in deze toets\n",
    "t = - stats.t.ppf(0.025, N - 1)\n",
    "\n",
    "# Bereken het 95%-betrouwbaarheidsinterval\n",
    "Ondergrens = Gemiddelde - t * Standaardafwijking / np.sqrt(N)\n",
    "Bovengrens = Gemiddelde + t * Standaardafwijking / np.sqrt(N)\n",
    "print(Ondergrens, Bovengrens)\n",
    "from myst_nb import glue\n",
    "glue(\"cool_text\", Bovengrens)"
   ]
  },
  {
   "cell_type": "markdown",
   "id": "feb383df",
   "metadata": {},
   "source": [
    "<!-- ## /OPENBLOK: betrouwbaarheidsinterval.py -->\n",
    "\n",
    "<!-- ## TEKSTBLOK: T-test2.py -->\n",
    "* Vrijheidsgraden, *df* = *n* -1 = `r Round_and_format(py$N)`-1 = `r py$par`  \n",
    "* *t* ~`r py$par`~ = `r Round_and_format(py$stat)`, *p* < 0,0001\n",
    "* p-waarde < 0,05, dus de H~0~ wordt verworpen[^9]\n",
    "* 95%-betrouwbaarheidsinterval: bij het herhalen van het experiment met verschillende steekproeven van de populatie zal 95% van de betrouwbaarheidsintervallen de daadwerkelijke parameter bevatten, het gemiddeld eindexamencijfer exacte vakken. In deze casus is het interval tussen `r Round_and_format(py$Ondergrens)` en `r Round_and_format(py$Bovengrens)`. Aangezien 6.8 niet in dit interval zit, verschilt het gemiddelde significant van 6.8.\n",
    "* Het gemiddelde van de steekproef is `r Round_and_format(py$mean)`  \n",
    "<!-- ## /TEKSTBLOK: T-test2.py -->\n",
    "\n",
    "# Rapportage\n",
    "<!-- ## TEKSTBLOK: Rapportage.py -->\n",
    "De *one sample t-toets* is uitgevoerd om te toetsen of het gemiddelde eindexamencijfer voor de exacte vakken van vwo studenten die Werktuigbouwkunde zijn gaan studeren anders is dan het landelijk gemiddelde. Het gemiddelde van de steekproef (*M* = `r Round_and_format(py$mean)`, *SD* = `r Round_and_format(py$sd)`) is statistisch significant hoger dan het landelijk gemiddelde van 6,8, *t* ~`r py$par`~ = `r Round_and_format(py$stat)`, *p* < 0,05.\n",
    "<!-- ## /TEKSTBLOK: Rapportage.py -->\n",
    "De resultaten suggereren dat het gemiddelde eindexamencijfer voor de exacte vakken van studenten Werktuigbouwkunde met een vwo vooropleiding hoger ligt dan het landelijk gemiddelde.\n",
    "{glue:}`cool_text`\n",
    "\n",
    "<!-- ## CLOSEDBLOK: Footer.R -->"
   ]
  },
  {
   "cell_type": "markdown",
   "id": "be46905c",
   "metadata": {},
   "source": [
    "<!-- ## /CLOSEDBLOK: Footer.R -->\n",
    "\n",
    "[^1]: Van Geloven, N. (25 mei 2016). *T-toets* [Wiki Statistiek Academisch Medisch Centrum](https://wikistatistiek.amc.nl/index.php/T-toets#one_sample_t-toets). \n",
    "[^2]: Centraal Instituut voor Toetsontwikkeling (2018). *Examenverslag 2018*. https://www.cito.nl/onderwijs/voortgezet-onderwijs/centrale-examens-voortgezet-onderwijs/tools-en-informatie-voor-docenten/examenverslagen/examenverslag-2018\n",
    "[^3]: Lumley, T., Diehr, P., Emerson, S., & Chen, L. (2002). The importance of the normality assumption in large public health data sets. Annu Rev Public Health, 23, 151-69. doi: 10.1146/annurev.publheath.23.100901.140546 http://rctdesign.org/techreports/arphnonnormality.pdf\n",
    "[^4]: Laerd statistics (2018). [Testing for Normality using SPSS Statistics](https://statistics.laerd.com/spss-tutorials/testing-for-normality-using-spss-statistics.php).  \n",
    "[^5]: Normaliteit. (14 juli 2014). [UvA Wiki Methodologiewinkel](https://wiki.uva.nl/methodologiewinkel/index.php/Normaliteit).\n",
    "[^6]: Er zijn verschillende opties om variabelen te transformeren, zoals de logaritme, wortel of inverse (1 gedeeld door de variabele) nemen van de variabele. Zie *Discovering statistics using IBM SPSS statistics* van Field (2013) pagina 201-210 voor meer informatie over welke transformaties wanneer gebruikt kunnen worden.\n",
    "[^7]: De [Wilcoxon signed rank toets](07-Wilcoxon-signed-rank-toets-R.html) maakt een rangschikking van de data. Hierdoor is de test verdelingsvrij en is normaliteit geen assumptie. Ook zijn uitbijters minder van invloed op het eindresultaat. Toch wordt er voor deze test minder vaak gekozen, doordat bij het maken van een rankschikking de data informatie verliest. Als de data wel normaal verdeeld zijn heeft de [Wilcoxon signed rank toets](07-Wilcoxon-signed-rank-toets-R.html) minder onderscheidend vermogen dan wanneer de *one sample t-toets* uitgevoerd zou worden. \n",
    "[^8]: Prabhakaran, S. (2016-2017). *Statistical Tests*. http://r-statistics.co/Statistical-Tests-in-R.html  \n",
    "[^9]: Outliers (13 augustus 2016). [UvA Wiki Methodologiewinkel](https://wiki.uva.nl/methodologiewinkel/index.php/Outliers).\n",
    "[^10]: Uitbijters kunnen bepalend zijn voor de uitkomst van toetsen. Bekijk of de uitbijters valide uitbijters zijn en niet een meetfout of op een andere manier incorrect verkregen data. Het weghalen van uitbijters kan de uitkomst ook vertekenen, daarom is het belangrijk om verwijderde uitbijters te melden in een rapport. \n",
    "[^11]: In dit voorbeeld wordt uitgegaan van een waarschijnlijkheid van 95% c.q. een p-waardegrens van 0,05. De grens is naar eigen inzicht aan te passen; houd hierbij rekening met type I en type II fouten.\n",
    "[^18]: De breedte van de staven van het histogram wordt vaak automatisch bepaald, maar kan handmatig aangepast worden. Aangezien de breedte van de staven bepalend zijn voor de indruk die de visualisatie geeft, is het verstandig om hier goed op te letten."
   ]
  }
 ],
 "metadata": {
  "kernelspec": {
   "display_name": "Python 3 (ipykernel)",
   "language": "python",
   "name": "python3"
  },
  "language_info": {
   "codemirror_mode": {
    "name": "ipython",
    "version": 3
   },
   "file_extension": ".py",
   "mimetype": "text/x-python",
   "name": "python",
   "nbconvert_exporter": "python",
   "pygments_lexer": "ipython3",
   "version": "3.9.12"
  },
  "toc-autonumbering": false,
  "toc-showmarkdowntxt": false
 },
 "nbformat": 4,
 "nbformat_minor": 5
}
